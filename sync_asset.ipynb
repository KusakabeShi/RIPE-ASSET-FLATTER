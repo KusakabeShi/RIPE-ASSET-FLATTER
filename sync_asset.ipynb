{
 "cells": [
  {
   "cell_type": "code",
   "execution_count": 1,
   "id": "eda053fd-48d5-4b43-bab1-16f57e3532bb",
   "metadata": {},
   "outputs": [],
   "source": [
    "import requests\n",
    "import json\n",
    "import yaml\n",
    "import ipaddress\n",
    "import sys\n",
    "import os\n",
    "from pathlib import Path\n",
    "import subprocess\n",
    "import copy\n",
    "#as_set = os.environ[\"AS_SET_SRC\"]\n",
    "#as_dst = os.environ[\"AS_SET_SRC\"]\n",
    "#password = os.environ[\"RIPE_PASSWD\"]"
   ]
  },
  {
   "cell_type": "code",
   "execution_count": 2,
   "id": "91856ac5-fa68-4257-8c3f-7c53216e614d",
   "metadata": {},
   "outputs": [],
   "source": [
    "as_set_src = \"\"\n",
    "as_set_dst = \"\"\n",
    "password = \"\"\n",
    "max_depth = 3\n",
    "dst_cache_file = Path(\"cache/dst_cache.json\")\n",
    "irrdb = \"RIPE,APNIC,AFRINIC,ARIN,LACNIC,RADB\""
   ]
  },
  {
   "cell_type": "code",
   "execution_count": 3,
   "id": "82dee1d8-8078-4227-9134-15a9db19484a",
   "metadata": {},
   "outputs": [],
   "source": [
    "src_url = f\"https://rest.db.ripe.net/ripe/as-set/{as_set_src}\"\n",
    "dst_url = f\"https://rest.db.ripe.net/ripe/as-set/{as_set_dst}?password={password}\"\n",
    "t1_asns = [ 701, 1239, 1299, 2914, 3257, 3320, 3356, 3491, 5511, 6453, 6461, 6762, 6830, 7018, 12956, 174, 1273, 2828, 4134, 4809, 4637, 6939, 7473, 7922, 9002 ]\n",
    "\n",
    "headers = {\n",
    "  'Content-Type': 'application/json',\n",
    "  'Accept': 'application/json'\n",
    "}\n"
   ]
  },
  {
   "cell_type": "code",
   "execution_count": 4,
   "id": "f8b5fd83-2577-4f36-b105-9cb196480b79",
   "metadata": {},
   "outputs": [],
   "source": [
    "def extract_member(base_json):\n",
    "    return list(map(lambda x:x[\"value\"],filter(lambda x:x[\"name\"] == \"members\", base_json[\"objects\"][\"object\"][0][\"attributes\"][\"attribute\"])))\n",
    "\n",
    "def index_of_first(lst, pred):\n",
    "    for i, v in enumerate(lst):\n",
    "        if pred(v):\n",
    "            return i\n",
    "    return 1\n",
    "\n",
    "def pack_member(base_json,member_list):\n",
    "    base_json = copy.deepcopy(base_json)\n",
    "    old_list = base_json[\"objects\"][\"object\"][0][\"attributes\"][\"attribute\"]\n",
    "    first_member_idx = index_of_first(old_list,lambda x:x[\"name\"] == \"members\")\n",
    "    old_list = list(filter(lambda x:x[\"name\"] != \"members\",old_list))\n",
    "    new_list = old_list[0:first_member_idx] + [{\"name\": \"members\", \"value\": member, \"referenced-type\":\"aut-num\" if member[:2] == \"AS\" and member[2:].isdecimal() else \"as-set\" } for member in member_list] + old_list[first_member_idx:]\n",
    "    base_json[\"objects\"][\"object\"][0][\"attributes\"][\"attribute\"] = new_list\n",
    "    return base_json\n",
    "def getval(strin):\n",
    "    return strin.split(\":\",1)[1].strip()"
   ]
  },
  {
   "cell_type": "code",
   "execution_count": 5,
   "id": "e464c457-58bb-42e1-8e40-5e2f7a8efc9f",
   "metadata": {},
   "outputs": [],
   "source": [
    "src_json = json.loads(requests.request(\"GET\", src_url, headers=headers).text)\n",
    "src_asset = extract_member(src_json)\n",
    "if dst_cache_file.is_file():\n",
    "    dst_json = json.loads(open(dst_cache_file).read())\n",
    "else:\n",
    "    dst_json = json.loads(requests.request(\"GET\", dst_url, headers=headers).text)\n",
    "dst_asset = extract_member(dst_json)\n"
   ]
  },
  {
   "cell_type": "code",
   "execution_count": 6,
   "id": "e1b73218-17b0-48a4-95c5-e28ec1e19c47",
   "metadata": {},
   "outputs": [],
   "source": [
    "flatted_members = {}\n",
    "for as_set in src_asset:\n",
    "    #print(as_set)\n",
    "    query = [\"bgpq4\", \"-tj\",\"-L\",str(max_depth), \"-S\",irrdb , as_set]\n",
    "    #print(\" \".join(query))\n",
    "    bgpq4_asns = subprocess.run(query, stdout=subprocess.PIPE).stdout.decode()\n",
    "    asset_asns = json.loads(bgpq4_asns)[\"NN\"]\n",
    "    asset_t1s = sorted(set(asset_asns) & set(t1_asns))\n",
    "    if len(asset_t1s)>0:\n",
    "        print(f\"Warning: {as_set} contains t1_asns:{asset_t1s}\")\n",
    "        continue\n",
    "    for asn in asset_asns:\n",
    "        flatted_members[asn] = 0"
   ]
  },
  {
   "cell_type": "code",
   "execution_count": 7,
   "id": "e43db7fa-08dd-46cf-998f-489037370301",
   "metadata": {},
   "outputs": [],
   "source": [
    "flatted_members = sorted(list(flatted_members.keys()))"
   ]
  },
  {
   "cell_type": "code",
   "execution_count": null,
   "id": "985a8d8c-cbae-4398-bca8-5bcb79e4cdd3",
   "metadata": {},
   "outputs": [],
   "source": []
  },
  {
   "cell_type": "code",
   "execution_count": 8,
   "id": "ec1af1a8-fba2-4ca4-933c-5b1c3ac5ae96",
   "metadata": {},
   "outputs": [
    {
     "name": "stdout",
     "output_type": "stream",
     "text": [
      "updated: AS203472:AS-DST\n"
     ]
    }
   ],
   "source": [
    "if dst_asset != flatted_members:\n",
    "    dst_json_new = pack_member(dst_json,map(lambda x:\"AS\" + str(x),flatted_members))\n",
    "    payload = json.dumps(dst_json_new)\n",
    "    response = requests.request(\"PUT\", dst_url, headers=headers, data=payload)\n",
    "    response.raise_for_status()\n",
    "    dst_json_new = json.loads(response.text)\n",
    "    print(\"updated:\",as_set_dst)\n",
    "else:\n",
    "    print(\"same, no update:\",as_set_dst)"
   ]
  },
  {
   "cell_type": "code",
   "execution_count": null,
   "id": "a8dc9849-0450-41d1-97fb-87acfc598894",
   "metadata": {},
   "outputs": [],
   "source": [
    "dst_json_new"
   ]
  },
  {
   "cell_type": "code",
   "execution_count": null,
   "id": "d6124b22-8eca-4534-a3f5-cf0a20b2990f",
   "metadata": {},
   "outputs": [],
   "source": [
    "dst_json"
   ]
  },
  {
   "cell_type": "code",
   "execution_count": null,
   "id": "5576708b-83bc-42c1-ae70-f7693e249fbe",
   "metadata": {},
   "outputs": [],
   "source": []
  }
 ],
 "metadata": {
  "kernelspec": {
   "display_name": "Python 3 (ipykernel)",
   "language": "python",
   "name": "python3"
  },
  "language_info": {
   "codemirror_mode": {
    "name": "ipython",
    "version": 3
   },
   "file_extension": ".py",
   "mimetype": "text/x-python",
   "name": "python",
   "nbconvert_exporter": "python",
   "pygments_lexer": "ipython3",
   "version": "3.9.2"
  }
 },
 "nbformat": 4,
 "nbformat_minor": 5
}
